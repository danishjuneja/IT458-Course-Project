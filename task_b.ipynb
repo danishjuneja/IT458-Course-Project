{
 "cells": [
  {
   "cell_type": "code",
   "execution_count": 1,
   "id": "be3766cc-ed5e-4149-8152-7ab4f408ef1b",
   "metadata": {},
   "outputs": [],
   "source": [
    "## Import Required modules"
   ]
  },
  {
   "cell_type": "code",
   "execution_count": 10,
   "id": "24a50126-236f-4459-90c4-7e3519738703",
   "metadata": {},
   "outputs": [],
   "source": [
    "import pickle\n"
   ]
  },
  {
   "cell_type": "markdown",
   "id": "79be7b7d",
   "metadata": {},
   "source": [
    "load the optimized Vocabulary"
   ]
  },
  {
   "cell_type": "code",
   "execution_count": 11,
   "id": "12270f55",
   "metadata": {},
   "outputs": [],
   "source": [
    "with open('vocabulary.pkl', 'rb') as file:\n",
    "    loaded_vocabulary = pickle.load(file)"
   ]
  }
 ],
 "metadata": {
  "kernelspec": {
   "display_name": "Python 3 (ipykernel)",
   "language": "python",
   "name": "python3"
  },
  "language_info": {
   "codemirror_mode": {
    "name": "ipython",
    "version": 3
   },
   "file_extension": ".py",
   "mimetype": "text/x-python",
   "name": "python",
   "nbconvert_exporter": "python",
   "pygments_lexer": "ipython3",
   "version": "3.11.5"
  }
 },
 "nbformat": 4,
 "nbformat_minor": 5
}
