{
 "cells": [
  {
   "cell_type": "code",
   "execution_count": 2,
   "metadata": {},
   "outputs": [],
   "source": [
    "import pickle\n",
    "\n",
    "# Load pre-processed data\n",
    "with open('preprocessed_data.pkl', 'rb') as f:\n",
    "    pre_processed_data = pickle.load(f)\n",
    "\n",
    "# Load vocabulary\n",
    "with open('final_vocabulary.pkl', 'rb') as f:\n",
    "    vocabulary = pickle.load(f)"
   ]
  },
  {
   "cell_type": "code",
   "execution_count": 3,
   "metadata": {},
   "outputs": [],
   "source": [
    "# Initialize an inverted index using a dictionary\n",
    "inverted_index_dict = {term: [] for term in vocabulary}\n",
    "\n",
    "# Initialize an inverted index using a list of lists\n",
    "inverted_index_list = [[] for _ in range(len(vocabulary))]"
   ]
  },
  {
   "cell_type": "code",
   "execution_count": 10,
   "metadata": {},
   "outputs": [],
   "source": [
    "for doc_id, document_tuple in enumerate(pre_processed_data):\n",
    "    document = document_tuple[0]\n",
    "    \n",
    "    for term in document.split():\n",
    "        if term in vocabulary:\n",
    "            # Update the inverted index using the dictionary approach\n",
    "            inverted_index_dict[term].append(doc_id)\n",
    "\n",
    "            # Update the inverted index using the list-based approach\n",
    "            term_id = vocabulary.index(term)\n",
    "            inverted_index_list[term_id].append(doc_id)"
   ]
  },
  {
   "cell_type": "markdown",
   "metadata": {},
   "source": [
    "### Analysis of the two Data Structures"
   ]
  },
  {
   "cell_type": "code",
   "execution_count": null,
   "metadata": {},
   "outputs": [],
   "source": [
    "# Retrieval function for dictionary-based index\n",
    "def retrieve_from_dict(term):\n",
    "    return inverted_index_dict.get(term, [])\n",
    "\n",
    "# Retrieval function for list-based index\n",
    "def retrieve_from_list(term):\n",
    "    term_id = vocabulary.index(term)\n",
    "    return inverted_index_list[term_id]\n",
    "\n",
    "# Insertion function for dictionary-based index\n",
    "def insert_to_dict(term, doc_id):\n",
    "    if term in inverted_index_dict:\n",
    "        inverted_index_dict[term].append(doc_id)\n",
    "    else:\n",
    "        inverted_index_dict[term] = [doc_id]\n",
    "\n",
    "# Insertion function for list-based index\n",
    "def insert_to_list(term, doc_id):\n",
    "    term_id = vocabulary.index(term)\n",
    "    inverted_index_list[term_id].append(doc_id)\n",
    "\n",
    "# Updation function for dictionary-based index\n",
    "def update_in_dict(term, old_doc_id, new_doc_id):\n",
    "    if term in inverted_index_dict:\n",
    "        inverted_index_dict[term] = [doc_id for doc_id in inverted_index_dict[term] if doc_id != old_doc_id]\n",
    "        inverted_index_dict[term].append(new_doc_id)\n",
    "\n",
    "# Updation function for list-based index\n",
    "def update_in_list(term, old_doc_id, new_doc_id):\n",
    "    term_id = vocabulary.index(term)\n",
    "    if old_doc_id in inverted_index_list[term_id]:\n",
    "        inverted_index_list[term_id].remove(old_doc_id)\n",
    "        inverted_index_list[term_id].append(new_doc_id)\n",
    "\n",
    "# Deletion function for dictionary-based index\n",
    "def delete_from_dict(term, doc_id):\n",
    "    if term in inverted_index_dict and doc_id in inverted_index_dict[term]:\n",
    "        inverted_index_dict[term].remove(doc_id)\n",
    "\n",
    "# Deletion function for list-based index\n",
    "def delete_from_list(term, doc_id):\n",
    "    term_id = vocabulary.index(term)\n",
    "    if doc_id in inverted_index_list[term_id]:\n",
    "        inverted_index_list[term_id].remove(doc_id)"
   ]
  }
 ],
 "metadata": {
  "kernelspec": {
   "display_name": "Python 3",
   "language": "python",
   "name": "python3"
  },
  "language_info": {
   "codemirror_mode": {
    "name": "ipython",
    "version": 3
   },
   "file_extension": ".py",
   "mimetype": "text/x-python",
   "name": "python",
   "nbconvert_exporter": "python",
   "pygments_lexer": "ipython3",
   "version": "3.10.4"
  },
  "orig_nbformat": 4
 },
 "nbformat": 4,
 "nbformat_minor": 2
}
